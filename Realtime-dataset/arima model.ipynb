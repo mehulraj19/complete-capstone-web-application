{
 "cells": [
  {
   "cell_type": "code",
   "execution_count": 2,
   "id": "109709be",
   "metadata": {},
   "outputs": [],
   "source": [
    "import os\n",
    "import pandas as pd\n",
    "import numpy as np\n",
    "from statsmodels.tsa.stattools import adfuller\n",
    "from pmdarima import auto_arima\n",
    "from statsmodels.tsa.arima.model import ARIMA as arima\n",
    "from sklearn.metrics import mean_squared_error as mse"
   ]
  },
  {
   "cell_type": "code",
   "execution_count": 24,
   "id": "9be2d396",
   "metadata": {},
   "outputs": [],
   "source": [
    "df = pd.read_csv('main.csv')"
   ]
  },
  {
   "cell_type": "code",
   "execution_count": 25,
   "id": "e0ce580c",
   "metadata": {},
   "outputs": [
    {
     "data": {
      "text/html": [
       "<div>\n",
       "<style scoped>\n",
       "    .dataframe tbody tr th:only-of-type {\n",
       "        vertical-align: middle;\n",
       "    }\n",
       "\n",
       "    .dataframe tbody tr th {\n",
       "        vertical-align: top;\n",
       "    }\n",
       "\n",
       "    .dataframe thead th {\n",
       "        text-align: right;\n",
       "    }\n",
       "</style>\n",
       "<table border=\"1\" class=\"dataframe\">\n",
       "  <thead>\n",
       "    <tr style=\"text-align: right;\">\n",
       "      <th></th>\n",
       "      <th>Date</th>\n",
       "      <th>confirmed</th>\n",
       "      <th>recovered</th>\n",
       "      <th>deaths</th>\n",
       "    </tr>\n",
       "  </thead>\n",
       "  <tbody>\n",
       "    <tr>\n",
       "      <th>0</th>\n",
       "      <td>2020-01-22</td>\n",
       "      <td>0</td>\n",
       "      <td>0</td>\n",
       "      <td>0</td>\n",
       "    </tr>\n",
       "    <tr>\n",
       "      <th>1</th>\n",
       "      <td>2020-01-23</td>\n",
       "      <td>0</td>\n",
       "      <td>0</td>\n",
       "      <td>0</td>\n",
       "    </tr>\n",
       "    <tr>\n",
       "      <th>2</th>\n",
       "      <td>2020-01-24</td>\n",
       "      <td>0</td>\n",
       "      <td>0</td>\n",
       "      <td>0</td>\n",
       "    </tr>\n",
       "    <tr>\n",
       "      <th>3</th>\n",
       "      <td>2020-01-25</td>\n",
       "      <td>0</td>\n",
       "      <td>0</td>\n",
       "      <td>0</td>\n",
       "    </tr>\n",
       "    <tr>\n",
       "      <th>4</th>\n",
       "      <td>2020-01-26</td>\n",
       "      <td>0</td>\n",
       "      <td>0</td>\n",
       "      <td>0</td>\n",
       "    </tr>\n",
       "  </tbody>\n",
       "</table>\n",
       "</div>"
      ],
      "text/plain": [
       "         Date  confirmed  recovered  deaths\n",
       "0  2020-01-22          0          0       0\n",
       "1  2020-01-23          0          0       0\n",
       "2  2020-01-24          0          0       0\n",
       "3  2020-01-25          0          0       0\n",
       "4  2020-01-26          0          0       0"
      ]
     },
     "execution_count": 25,
     "metadata": {},
     "output_type": "execute_result"
    }
   ],
   "source": [
    "df.head()"
   ]
  },
  {
   "cell_type": "code",
   "execution_count": 27,
   "id": "67b5ee2c",
   "metadata": {},
   "outputs": [],
   "source": [
    "df['Date'] = pd.to_datetime(df['Date'])"
   ]
  },
  {
   "cell_type": "code",
   "execution_count": 28,
   "id": "b8f8f220",
   "metadata": {},
   "outputs": [
    {
     "name": "stdout",
     "output_type": "stream",
     "text": [
      "<class 'pandas.core.frame.DataFrame'>\n",
      "RangeIndex: 817 entries, 0 to 816\n",
      "Data columns (total 4 columns):\n",
      " #   Column     Non-Null Count  Dtype         \n",
      "---  ------     --------------  -----         \n",
      " 0   Date       817 non-null    datetime64[ns]\n",
      " 1   confirmed  817 non-null    int64         \n",
      " 2   recovered  817 non-null    int64         \n",
      " 3   deaths     817 non-null    int64         \n",
      "dtypes: datetime64[ns](1), int64(3)\n",
      "memory usage: 25.7 KB\n"
     ]
    }
   ],
   "source": [
    "df.info()"
   ]
  },
  {
   "cell_type": "code",
   "execution_count": 29,
   "id": "f4af8c13",
   "metadata": {},
   "outputs": [
    {
     "name": "stdout",
     "output_type": "stream",
     "text": [
      "0.05296813241159319 0.0 0.29992748020926774\n"
     ]
    }
   ],
   "source": [
    "res1 = adfuller(df['confirmed'])\n",
    "res2 = adfuller(df['recovered'])\n",
    "res3 = adfuller(df['deaths'])\n",
    "\n",
    "print(res1[1], res2[1], res3[1])"
   ]
  },
  {
   "cell_type": "code",
   "execution_count": 30,
   "id": "1aea4bcb",
   "metadata": {},
   "outputs": [],
   "source": [
    "## they are stationary"
   ]
  },
  {
   "cell_type": "code",
   "execution_count": 31,
   "id": "eed53501",
   "metadata": {},
   "outputs": [
    {
     "name": "stdout",
     "output_type": "stream",
     "text": [
      "Performing stepwise search to minimize aic\n",
      " ARIMA(2,1,2)(0,0,0)[0] intercept   : AIC=16942.969, Time=0.35 sec\n",
      " ARIMA(0,1,0)(0,0,0)[0] intercept   : AIC=17057.703, Time=0.02 sec\n",
      " ARIMA(1,1,0)(0,0,0)[0] intercept   : AIC=17005.001, Time=0.03 sec\n",
      " ARIMA(0,1,1)(0,0,0)[0] intercept   : AIC=17000.262, Time=0.05 sec\n",
      " ARIMA(0,1,0)(0,0,0)[0]             : AIC=17055.704, Time=0.02 sec\n",
      " ARIMA(1,1,2)(0,0,0)[0] intercept   : AIC=16965.946, Time=0.26 sec\n",
      " ARIMA(2,1,1)(0,0,0)[0] intercept   : AIC=16989.804, Time=0.31 sec\n",
      " ARIMA(3,1,2)(0,0,0)[0] intercept   : AIC=16858.387, Time=0.69 sec\n",
      " ARIMA(3,1,1)(0,0,0)[0] intercept   : AIC=16933.925, Time=0.36 sec\n",
      " ARIMA(4,1,2)(0,0,0)[0] intercept   : AIC=16927.077, Time=0.78 sec\n",
      " ARIMA(3,1,3)(0,0,0)[0] intercept   : AIC=16830.775, Time=1.68 sec\n",
      " ARIMA(2,1,3)(0,0,0)[0] intercept   : AIC=16925.194, Time=0.71 sec\n",
      " ARIMA(4,1,3)(0,0,0)[0] intercept   : AIC=16823.826, Time=1.49 sec\n",
      " ARIMA(5,1,3)(0,0,0)[0] intercept   : AIC=16828.623, Time=1.68 sec\n",
      " ARIMA(4,1,4)(0,0,0)[0] intercept   : AIC=16824.463, Time=1.63 sec\n",
      " ARIMA(3,1,4)(0,0,0)[0] intercept   : AIC=16823.507, Time=1.68 sec\n",
      " ARIMA(2,1,4)(0,0,0)[0] intercept   : AIC=16910.645, Time=0.60 sec\n",
      " ARIMA(3,1,5)(0,0,0)[0] intercept   : AIC=16838.496, Time=1.06 sec\n",
      " ARIMA(2,1,5)(0,0,0)[0] intercept   : AIC=16785.299, Time=1.08 sec\n",
      " ARIMA(1,1,5)(0,0,0)[0] intercept   : AIC=16862.629, Time=0.66 sec\n",
      " ARIMA(1,1,4)(0,0,0)[0] intercept   : AIC=16861.928, Time=0.58 sec\n",
      " ARIMA(2,1,5)(0,0,0)[0]             : AIC=16783.299, Time=0.97 sec\n",
      " ARIMA(1,1,5)(0,0,0)[0]             : AIC=16860.628, Time=0.52 sec\n",
      " ARIMA(2,1,4)(0,0,0)[0]             : AIC=16908.645, Time=0.61 sec\n",
      " ARIMA(3,1,5)(0,0,0)[0]             : AIC=16836.496, Time=0.96 sec\n",
      " ARIMA(1,1,4)(0,0,0)[0]             : AIC=16859.928, Time=0.47 sec\n",
      " ARIMA(3,1,4)(0,0,0)[0]             : AIC=16821.768, Time=1.39 sec\n",
      "\n",
      "Best model:  ARIMA(2,1,5)(0,0,0)[0]          \n",
      "Total fit time: 20.691 seconds\n",
      "Performing stepwise search to minimize aic\n",
      " ARIMA(2,0,2)(0,0,0)[0] intercept   : AIC=25037.038, Time=0.16 sec\n",
      " ARIMA(0,0,0)(0,0,0)[0] intercept   : AIC=25029.006, Time=0.02 sec\n",
      " ARIMA(1,0,0)(0,0,0)[0] intercept   : AIC=25031.003, Time=0.03 sec\n",
      " ARIMA(0,0,1)(0,0,0)[0] intercept   : AIC=25031.012, Time=0.04 sec\n",
      " ARIMA(0,0,0)(0,0,0)[0]             : AIC=25030.994, Time=0.01 sec\n",
      " ARIMA(1,0,1)(0,0,0)[0] intercept   : AIC=25033.012, Time=0.13 sec\n",
      "\n",
      "Best model:  ARIMA(0,0,0)(0,0,0)[0] intercept\n",
      "Total fit time: 0.388 seconds\n",
      "Performing stepwise search to minimize aic\n",
      " ARIMA(2,1,2)(0,0,0)[0] intercept   : AIC=11859.508, Time=0.35 sec\n",
      " ARIMA(0,1,0)(0,0,0)[0] intercept   : AIC=12147.490, Time=0.02 sec\n",
      " ARIMA(1,1,0)(0,0,0)[0] intercept   : AIC=11958.821, Time=0.05 sec\n",
      " ARIMA(0,1,1)(0,0,0)[0] intercept   : AIC=11854.590, Time=0.18 sec\n",
      " ARIMA(0,1,0)(0,0,0)[0]             : AIC=12145.491, Time=0.01 sec\n",
      " ARIMA(1,1,1)(0,0,0)[0] intercept   : AIC=11856.477, Time=0.28 sec\n",
      " ARIMA(0,1,2)(0,0,0)[0] intercept   : AIC=11856.520, Time=0.09 sec\n",
      " ARIMA(1,1,2)(0,0,0)[0] intercept   : AIC=11858.575, Time=0.30 sec\n",
      " ARIMA(0,1,1)(0,0,0)[0]             : AIC=11852.576, Time=0.09 sec\n",
      " ARIMA(1,1,1)(0,0,0)[0]             : AIC=11854.466, Time=0.17 sec\n",
      " ARIMA(0,1,2)(0,0,0)[0]             : AIC=11854.519, Time=0.05 sec\n",
      " ARIMA(1,1,0)(0,0,0)[0]             : AIC=11956.822, Time=0.03 sec\n",
      " ARIMA(1,1,2)(0,0,0)[0]             : AIC=11856.571, Time=0.14 sec\n",
      "\n",
      "Best model:  ARIMA(0,1,1)(0,0,0)[0]          \n",
      "Total fit time: 1.774 seconds\n"
     ]
    }
   ],
   "source": [
    "model_auto_confirmed = auto_arima(df['confirmed'], trace=True, suppress_warnings=True)\n",
    "model_auto_recovered = auto_arima(df['recovered'], trace=True, suppress_warnings=True)\n",
    "model_auto_deceased = auto_arima(df['deaths'], trace=True, suppress_warnings=True)\n"
   ]
  },
  {
   "cell_type": "code",
   "execution_count": 32,
   "id": "da7a8aad",
   "metadata": {},
   "outputs": [
    {
     "data": {
      "text/plain": [
       "817"
      ]
     },
     "execution_count": 32,
     "metadata": {},
     "output_type": "execute_result"
    }
   ],
   "source": [
    "len(df)"
   ]
  },
  {
   "cell_type": "code",
   "execution_count": 33,
   "id": "5a78cde6",
   "metadata": {},
   "outputs": [
    {
     "data": {
      "text/plain": [
       "653.6"
      ]
     },
     "execution_count": 33,
     "metadata": {},
     "output_type": "execute_result"
    }
   ],
   "source": [
    ".8*len(df)"
   ]
  },
  {
   "cell_type": "code",
   "execution_count": 34,
   "id": "d8679003",
   "metadata": {},
   "outputs": [],
   "source": [
    "split_point = 654"
   ]
  },
  {
   "cell_type": "code",
   "execution_count": 35,
   "id": "0c0399f6",
   "metadata": {},
   "outputs": [
    {
     "data": {
      "text/html": [
       "<div>\n",
       "<style scoped>\n",
       "    .dataframe tbody tr th:only-of-type {\n",
       "        vertical-align: middle;\n",
       "    }\n",
       "\n",
       "    .dataframe tbody tr th {\n",
       "        vertical-align: top;\n",
       "    }\n",
       "\n",
       "    .dataframe thead th {\n",
       "        text-align: right;\n",
       "    }\n",
       "</style>\n",
       "<table border=\"1\" class=\"dataframe\">\n",
       "  <thead>\n",
       "    <tr style=\"text-align: right;\">\n",
       "      <th></th>\n",
       "      <th>confirmed</th>\n",
       "      <th>recovered</th>\n",
       "      <th>deaths</th>\n",
       "    </tr>\n",
       "    <tr>\n",
       "      <th>Date</th>\n",
       "      <th></th>\n",
       "      <th></th>\n",
       "      <th></th>\n",
       "    </tr>\n",
       "  </thead>\n",
       "  <tbody>\n",
       "    <tr>\n",
       "      <th>2020-01-22</th>\n",
       "      <td>0</td>\n",
       "      <td>0</td>\n",
       "      <td>0</td>\n",
       "    </tr>\n",
       "    <tr>\n",
       "      <th>2020-01-23</th>\n",
       "      <td>0</td>\n",
       "      <td>0</td>\n",
       "      <td>0</td>\n",
       "    </tr>\n",
       "    <tr>\n",
       "      <th>2020-01-24</th>\n",
       "      <td>0</td>\n",
       "      <td>0</td>\n",
       "      <td>0</td>\n",
       "    </tr>\n",
       "    <tr>\n",
       "      <th>2020-01-25</th>\n",
       "      <td>0</td>\n",
       "      <td>0</td>\n",
       "      <td>0</td>\n",
       "    </tr>\n",
       "    <tr>\n",
       "      <th>2020-01-26</th>\n",
       "      <td>0</td>\n",
       "      <td>0</td>\n",
       "      <td>0</td>\n",
       "    </tr>\n",
       "  </tbody>\n",
       "</table>\n",
       "</div>"
      ],
      "text/plain": [
       "            confirmed  recovered  deaths\n",
       "Date                                    \n",
       "2020-01-22          0          0       0\n",
       "2020-01-23          0          0       0\n",
       "2020-01-24          0          0       0\n",
       "2020-01-25          0          0       0\n",
       "2020-01-26          0          0       0"
      ]
     },
     "execution_count": 35,
     "metadata": {},
     "output_type": "execute_result"
    }
   ],
   "source": [
    "df.set_index('Date', inplace=True)\n",
    "df.head()"
   ]
  },
  {
   "cell_type": "code",
   "execution_count": 36,
   "id": "4aa67c85",
   "metadata": {},
   "outputs": [],
   "source": [
    "y_train = df[:split_point]\n",
    "y_test = df[split_point:]"
   ]
  },
  {
   "cell_type": "code",
   "execution_count": 37,
   "id": "63c5c3d1",
   "metadata": {},
   "outputs": [
    {
     "data": {
      "text/plain": [
       "163"
      ]
     },
     "execution_count": 37,
     "metadata": {},
     "output_type": "execute_result"
    }
   ],
   "source": [
    "len(y_test)"
   ]
  },
  {
   "cell_type": "code",
   "execution_count": 38,
   "id": "70328a51",
   "metadata": {},
   "outputs": [
    {
     "name": "stderr",
     "output_type": "stream",
     "text": [
      "C:\\Users\\mehul\\anaconda3\\lib\\site-packages\\statsmodels\\tsa\\base\\tsa_model.py:524: ValueWarning: No frequency information was provided, so inferred frequency D will be used.\n",
      "  warnings.warn('No frequency information was'\n",
      "C:\\Users\\mehul\\anaconda3\\lib\\site-packages\\statsmodels\\tsa\\base\\tsa_model.py:524: ValueWarning: No frequency information was provided, so inferred frequency D will be used.\n",
      "  warnings.warn('No frequency information was'\n",
      "C:\\Users\\mehul\\anaconda3\\lib\\site-packages\\statsmodels\\tsa\\base\\tsa_model.py:524: ValueWarning: No frequency information was provided, so inferred frequency D will be used.\n",
      "  warnings.warn('No frequency information was'\n"
     ]
    },
    {
     "data": {
      "text/plain": [
       "85124.25141374518"
      ]
     },
     "execution_count": 38,
     "metadata": {},
     "output_type": "execute_result"
    }
   ],
   "source": [
    "## FOR CONFIRMED CASES\n",
    "\n",
    "# model training\n",
    "model_confirmed = arima(y_train['confirmed'], order=(2,0,2))\n",
    "res_confirmed = model_confirmed.fit()\n",
    "\n",
    "# predictions\n",
    "y_pred_confirmed = res_confirmed.predict()\n",
    "\n",
    "# forecasting \n",
    "y_forecast_confirmed = res_confirmed.forecast(steps=163)\n",
    "\n",
    "# model evaluation\n",
    "np.sqrt(mse(y_forecast_confirmed, y_test['confirmed']))"
   ]
  },
  {
   "cell_type": "code",
   "execution_count": 39,
   "id": "79e7a010",
   "metadata": {},
   "outputs": [
    {
     "name": "stderr",
     "output_type": "stream",
     "text": [
      "C:\\Users\\mehul\\anaconda3\\lib\\site-packages\\statsmodels\\tsa\\base\\tsa_model.py:524: ValueWarning: No frequency information was provided, so inferred frequency D will be used.\n",
      "  warnings.warn('No frequency information was'\n",
      "C:\\Users\\mehul\\anaconda3\\lib\\site-packages\\statsmodels\\tsa\\base\\tsa_model.py:524: ValueWarning: No frequency information was provided, so inferred frequency D will be used.\n",
      "  warnings.warn('No frequency information was'\n",
      "C:\\Users\\mehul\\anaconda3\\lib\\site-packages\\statsmodels\\tsa\\base\\tsa_model.py:524: ValueWarning: No frequency information was provided, so inferred frequency D will be used.\n",
      "  warnings.warn('No frequency information was'\n"
     ]
    },
    {
     "data": {
      "text/plain": [
       "462.69110615566603"
      ]
     },
     "execution_count": 39,
     "metadata": {},
     "output_type": "execute_result"
    }
   ],
   "source": [
    "## FOR DECEASED CASES\n",
    "\n",
    "# model training\n",
    "model_deceased = arima(y_train['deaths'], order=(0,1,1))\n",
    "res_deceased = model_deceased.fit()\n",
    "\n",
    "# predictions\n",
    "y_pred_deceased = res_deceased.predict()\n",
    "\n",
    "# forecasting \n",
    "y_forecast_deceased = res_deceased.forecast(steps=163)\n",
    "\n",
    "# model evaluation\n",
    "np.sqrt(mse(y_forecast_deceased, y_test['deaths']))"
   ]
  },
  {
   "cell_type": "code",
   "execution_count": 40,
   "id": "79a0d769",
   "metadata": {},
   "outputs": [
    {
     "name": "stderr",
     "output_type": "stream",
     "text": [
      "C:\\Users\\mehul\\anaconda3\\lib\\site-packages\\statsmodels\\tsa\\base\\tsa_model.py:524: ValueWarning: No frequency information was provided, so inferred frequency D will be used.\n",
      "  warnings.warn('No frequency information was'\n",
      "C:\\Users\\mehul\\anaconda3\\lib\\site-packages\\statsmodels\\tsa\\base\\tsa_model.py:524: ValueWarning: No frequency information was provided, so inferred frequency D will be used.\n",
      "  warnings.warn('No frequency information was'\n",
      "C:\\Users\\mehul\\anaconda3\\lib\\site-packages\\statsmodels\\tsa\\base\\tsa_model.py:524: ValueWarning: No frequency information was provided, so inferred frequency D will be used.\n",
      "  warnings.warn('No frequency information was'\n"
     ]
    },
    {
     "data": {
      "text/plain": [
       "0.0"
      ]
     },
     "execution_count": 40,
     "metadata": {},
     "output_type": "execute_result"
    }
   ],
   "source": [
    "## FOR RECOVERED CASES\n",
    "\n",
    "# model training\n",
    "model_recovered = arima(y_train['recovered'], order=(0,1,0))\n",
    "res_recovered = model_recovered.fit()\n",
    "\n",
    "# predictions\n",
    "y_pred_recovered = res_recovered.predict()\n",
    "\n",
    "# forecasting \n",
    "y_forecast_recovered = res_recovered.forecast(steps=163)\n",
    "\n",
    "# model evaluation\n",
    "np.sqrt(mse(y_forecast_recovered, y_test['recovered']))"
   ]
  },
  {
   "cell_type": "code",
   "execution_count": 41,
   "id": "d2ffa2a4",
   "metadata": {},
   "outputs": [
    {
     "name": "stdout",
     "output_type": "stream",
     "text": [
      "<class 'pandas.core.frame.DataFrame'>\n",
      "DatetimeIndex: 817 entries, 2020-01-22 to 2022-04-17\n",
      "Data columns (total 3 columns):\n",
      " #   Column     Non-Null Count  Dtype\n",
      "---  ------     --------------  -----\n",
      " 0   confirmed  817 non-null    int64\n",
      " 1   recovered  817 non-null    int64\n",
      " 2   deaths     817 non-null    int64\n",
      "dtypes: int64(3)\n",
      "memory usage: 25.5 KB\n"
     ]
    }
   ],
   "source": [
    "df.info()"
   ]
  },
  {
   "cell_type": "code",
   "execution_count": 42,
   "id": "3b2ff5f1",
   "metadata": {},
   "outputs": [
    {
     "data": {
      "text/plain": [
       "datetime.date(2022, 4, 18)"
      ]
     },
     "execution_count": 42,
     "metadata": {},
     "output_type": "execute_result"
    }
   ],
   "source": [
    "from datetime import date\n",
    "today = date.today()\n",
    "today"
   ]
  },
  {
   "cell_type": "code",
   "execution_count": 43,
   "id": "54965492",
   "metadata": {},
   "outputs": [
    {
     "data": {
      "text/plain": [
       "datetime.datetime(2022, 4, 25, 20, 40, 18, 413955)"
      ]
     },
     "execution_count": 43,
     "metadata": {},
     "output_type": "execute_result"
    }
   ],
   "source": [
    "import datetime\n",
    "datetime.datetime.now() + datetime.timedelta(days=7)"
   ]
  },
  {
   "cell_type": "code",
   "execution_count": 46,
   "id": "799de058",
   "metadata": {},
   "outputs": [
    {
     "data": {
      "text/plain": [
       "datetime.date"
      ]
     },
     "execution_count": 46,
     "metadata": {},
     "output_type": "execute_result"
    }
   ],
   "source": [
    "dates = []\n",
    "for i in range(0, 7):\n",
    "    dates.append(today + datetime.timedelta(days=i))\n",
    "type(dates[0])"
   ]
  },
  {
   "cell_type": "code",
   "execution_count": 54,
   "id": "4589f10d",
   "metadata": {},
   "outputs": [
    {
     "name": "stderr",
     "output_type": "stream",
     "text": [
      "C:\\Users\\mehul\\anaconda3\\lib\\site-packages\\statsmodels\\tsa\\base\\tsa_model.py:524: ValueWarning: No frequency information was provided, so inferred frequency D will be used.\n",
      "  warnings.warn('No frequency information was'\n",
      "C:\\Users\\mehul\\anaconda3\\lib\\site-packages\\statsmodels\\tsa\\base\\tsa_model.py:524: ValueWarning: No frequency information was provided, so inferred frequency D will be used.\n",
      "  warnings.warn('No frequency information was'\n",
      "C:\\Users\\mehul\\anaconda3\\lib\\site-packages\\statsmodels\\tsa\\base\\tsa_model.py:524: ValueWarning: No frequency information was provided, so inferred frequency D will be used.\n",
      "  warnings.warn('No frequency information was'\n",
      "C:\\Users\\mehul\\anaconda3\\lib\\site-packages\\statsmodels\\tsa\\base\\tsa_model.py:524: ValueWarning: No frequency information was provided, so inferred frequency D will be used.\n",
      "  warnings.warn('No frequency information was'\n",
      "C:\\Users\\mehul\\anaconda3\\lib\\site-packages\\statsmodels\\tsa\\base\\tsa_model.py:524: ValueWarning: No frequency information was provided, so inferred frequency D will be used.\n",
      "  warnings.warn('No frequency information was'\n",
      "C:\\Users\\mehul\\anaconda3\\lib\\site-packages\\statsmodels\\tsa\\base\\tsa_model.py:524: ValueWarning: No frequency information was provided, so inferred frequency D will be used.\n",
      "  warnings.warn('No frequency information was'\n",
      "C:\\Users\\mehul\\anaconda3\\lib\\site-packages\\statsmodels\\tsa\\base\\tsa_model.py:524: ValueWarning: No frequency information was provided, so inferred frequency D will be used.\n",
      "  warnings.warn('No frequency information was'\n",
      "C:\\Users\\mehul\\anaconda3\\lib\\site-packages\\statsmodels\\tsa\\base\\tsa_model.py:524: ValueWarning: No frequency information was provided, so inferred frequency D will be used.\n",
      "  warnings.warn('No frequency information was'\n",
      "C:\\Users\\mehul\\anaconda3\\lib\\site-packages\\statsmodels\\tsa\\base\\tsa_model.py:524: ValueWarning: No frequency information was provided, so inferred frequency D will be used.\n",
      "  warnings.warn('No frequency information was'\n"
     ]
    }
   ],
   "source": [
    "model_confirmed = arima(df['confirmed'], order=(2,1,2))\n",
    "res_confirmed = model_confirmed.fit()\n",
    "\n",
    "model_deceased = arima(df['deaths'], order=(0,1,1))\n",
    "res_deceased = model_deceased.fit()\n",
    "\n",
    "model_recovered = arima(df['recovered'], order=(0,1,0))\n",
    "res_recovered = model_recovered.fit()"
   ]
  },
  {
   "cell_type": "code",
   "execution_count": 48,
   "id": "e2c66b31",
   "metadata": {},
   "outputs": [
    {
     "data": {
      "text/plain": [
       "DatetimeIndex(['2022-04-18', '2022-04-19', '2022-04-20', '2022-04-21',\n",
       "               '2022-04-22', '2022-04-23', '2022-04-24'],\n",
       "              dtype='datetime64[ns]', freq=None)"
      ]
     },
     "execution_count": 48,
     "metadata": {},
     "output_type": "execute_result"
    }
   ],
   "source": [
    "dates = pd.to_datetime(dates)\n",
    "dates"
   ]
  },
  {
   "cell_type": "code",
   "execution_count": 55,
   "id": "1676cc58",
   "metadata": {},
   "outputs": [],
   "source": [
    "y_forecast_confirmed_next_7_days = res_confirmed.forecast(steps=7)\n",
    "y_forecast_deceased_next_7_days = res_deceased.forecast(steps=7)\n",
    "y_forecast_recovered_next_7_days = res_recovered.forecast(steps=7)"
   ]
  },
  {
   "cell_type": "code",
   "execution_count": 59,
   "id": "ff11e880",
   "metadata": {},
   "outputs": [
    {
     "data": {
      "text/plain": [
       "2022-04-18    2407\n",
       "2022-04-19    2448\n",
       "2022-04-20    2614\n",
       "2022-04-21    2675\n",
       "2022-04-22    2804\n",
       "2022-04-23    2871\n",
       "2022-04-24    2975\n",
       "Freq: D, Name: predicted_mean, dtype: int64"
      ]
     },
     "execution_count": 59,
     "metadata": {},
     "output_type": "execute_result"
    }
   ],
   "source": [
    "y_forecast_confirmed_next_7_days = y_forecast_confirmed_next_7_days.astype(np.int64)\n",
    "y_forecast_confirmed_next_7_days"
   ]
  },
  {
   "cell_type": "code",
   "execution_count": 60,
   "id": "59077444",
   "metadata": {},
   "outputs": [
    {
     "data": {
      "text/plain": [
       "2022-04-18    79\n",
       "2022-04-19    79\n",
       "2022-04-20    79\n",
       "2022-04-21    79\n",
       "2022-04-22    79\n",
       "2022-04-23    79\n",
       "2022-04-24    79\n",
       "Freq: D, Name: predicted_mean, dtype: int64"
      ]
     },
     "execution_count": 60,
     "metadata": {},
     "output_type": "execute_result"
    }
   ],
   "source": [
    "y_forecast_deceased_next_7_days = y_forecast_deceased_next_7_days.astype(np.int64)\n",
    "y_forecast_deceased_next_7_days"
   ]
  },
  {
   "cell_type": "code",
   "execution_count": 61,
   "id": "6797fc29",
   "metadata": {},
   "outputs": [
    {
     "data": {
      "text/plain": [
       "2022-04-18    0\n",
       "2022-04-19    0\n",
       "2022-04-20    0\n",
       "2022-04-21    0\n",
       "2022-04-22    0\n",
       "2022-04-23    0\n",
       "2022-04-24    0\n",
       "Freq: D, Name: predicted_mean, dtype: int64"
      ]
     },
     "execution_count": 61,
     "metadata": {},
     "output_type": "execute_result"
    }
   ],
   "source": [
    "y_forecast_recovered_next_7_days = y_forecast_recovered_next_7_days.astype(np.int64)\n",
    "y_forecast_recovered_next_7_days"
   ]
  },
  {
   "cell_type": "code",
   "execution_count": 62,
   "id": "cc954696",
   "metadata": {},
   "outputs": [
    {
     "data": {
      "text/plain": [
       "2407"
      ]
     },
     "execution_count": 62,
     "metadata": {},
     "output_type": "execute_result"
    }
   ],
   "source": [
    "y_forecast_confirmed_next_7_days[0]"
   ]
  },
  {
   "cell_type": "code",
   "execution_count": 76,
   "id": "23fcb656",
   "metadata": {},
   "outputs": [],
   "source": [
    "data_val = []\n",
    "for i in range(len(y_forecast_confirmed_next_7_days)):\n",
    "    a = y_forecast_confirmed_next_7_days[i]\n",
    "    b = y_forecast_deceased_next_7_days[i]\n",
    "    c = y_forecast_recovered_next_7_days[i]\n",
    "    l = []\n",
    "    l.append(dates[i])\n",
    "    l.append(a)\n",
    "    l.append(b)\n",
    "    l.append(c)\n",
    "    data_val.append(l)"
   ]
  },
  {
   "cell_type": "code",
   "execution_count": 77,
   "id": "8562a9c4",
   "metadata": {},
   "outputs": [
    {
     "data": {
      "text/plain": [
       "[[Timestamp('2022-04-18 00:00:00'), 2407, 79, 0],\n",
       " [Timestamp('2022-04-19 00:00:00'), 2448, 79, 0],\n",
       " [Timestamp('2022-04-20 00:00:00'), 2614, 79, 0],\n",
       " [Timestamp('2022-04-21 00:00:00'), 2675, 79, 0],\n",
       " [Timestamp('2022-04-22 00:00:00'), 2804, 79, 0],\n",
       " [Timestamp('2022-04-23 00:00:00'), 2871, 79, 0],\n",
       " [Timestamp('2022-04-24 00:00:00'), 2975, 79, 0]]"
      ]
     },
     "execution_count": 77,
     "metadata": {},
     "output_type": "execute_result"
    }
   ],
   "source": [
    "data_val"
   ]
  },
  {
   "cell_type": "code",
   "execution_count": 79,
   "id": "445ea6af",
   "metadata": {},
   "outputs": [
    {
     "data": {
      "text/html": [
       "<div>\n",
       "<style scoped>\n",
       "    .dataframe tbody tr th:only-of-type {\n",
       "        vertical-align: middle;\n",
       "    }\n",
       "\n",
       "    .dataframe tbody tr th {\n",
       "        vertical-align: top;\n",
       "    }\n",
       "\n",
       "    .dataframe thead th {\n",
       "        text-align: right;\n",
       "    }\n",
       "</style>\n",
       "<table border=\"1\" class=\"dataframe\">\n",
       "  <thead>\n",
       "    <tr style=\"text-align: right;\">\n",
       "      <th></th>\n",
       "      <th>Date</th>\n",
       "      <th>Confirmed</th>\n",
       "      <th>Deaths</th>\n",
       "      <th>Recovered</th>\n",
       "    </tr>\n",
       "  </thead>\n",
       "  <tbody>\n",
       "    <tr>\n",
       "      <th>0</th>\n",
       "      <td>2022-04-18</td>\n",
       "      <td>2407</td>\n",
       "      <td>79</td>\n",
       "      <td>0</td>\n",
       "    </tr>\n",
       "    <tr>\n",
       "      <th>1</th>\n",
       "      <td>2022-04-19</td>\n",
       "      <td>2448</td>\n",
       "      <td>79</td>\n",
       "      <td>0</td>\n",
       "    </tr>\n",
       "    <tr>\n",
       "      <th>2</th>\n",
       "      <td>2022-04-20</td>\n",
       "      <td>2614</td>\n",
       "      <td>79</td>\n",
       "      <td>0</td>\n",
       "    </tr>\n",
       "    <tr>\n",
       "      <th>3</th>\n",
       "      <td>2022-04-21</td>\n",
       "      <td>2675</td>\n",
       "      <td>79</td>\n",
       "      <td>0</td>\n",
       "    </tr>\n",
       "    <tr>\n",
       "      <th>4</th>\n",
       "      <td>2022-04-22</td>\n",
       "      <td>2804</td>\n",
       "      <td>79</td>\n",
       "      <td>0</td>\n",
       "    </tr>\n",
       "    <tr>\n",
       "      <th>5</th>\n",
       "      <td>2022-04-23</td>\n",
       "      <td>2871</td>\n",
       "      <td>79</td>\n",
       "      <td>0</td>\n",
       "    </tr>\n",
       "    <tr>\n",
       "      <th>6</th>\n",
       "      <td>2022-04-24</td>\n",
       "      <td>2975</td>\n",
       "      <td>79</td>\n",
       "      <td>0</td>\n",
       "    </tr>\n",
       "  </tbody>\n",
       "</table>\n",
       "</div>"
      ],
      "text/plain": [
       "        Date  Confirmed  Deaths  Recovered\n",
       "0 2022-04-18       2407      79          0\n",
       "1 2022-04-19       2448      79          0\n",
       "2 2022-04-20       2614      79          0\n",
       "3 2022-04-21       2675      79          0\n",
       "4 2022-04-22       2804      79          0\n",
       "5 2022-04-23       2871      79          0\n",
       "6 2022-04-24       2975      79          0"
      ]
     },
     "execution_count": 79,
     "metadata": {},
     "output_type": "execute_result"
    }
   ],
   "source": [
    "headers = ['Date', 'Confirmed', 'Deaths', 'Recovered']\n",
    "df_next_seven_days = pd.DataFrame(data_val, columns=headers)\n",
    "df_next_seven_days"
   ]
  },
  {
   "cell_type": "code",
   "execution_count": null,
   "id": "02b24e78",
   "metadata": {},
   "outputs": [],
   "source": []
  }
 ],
 "metadata": {
  "kernelspec": {
   "display_name": "Python 3",
   "language": "python",
   "name": "python3"
  },
  "language_info": {
   "codemirror_mode": {
    "name": "ipython",
    "version": 3
   },
   "file_extension": ".py",
   "mimetype": "text/x-python",
   "name": "python",
   "nbconvert_exporter": "python",
   "pygments_lexer": "ipython3",
   "version": "3.8.8"
  }
 },
 "nbformat": 4,
 "nbformat_minor": 5
}
