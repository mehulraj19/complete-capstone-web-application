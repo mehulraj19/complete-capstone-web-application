{
 "cells": [
  {
   "cell_type": "code",
   "execution_count": 1,
   "id": "85464870",
   "metadata": {},
   "outputs": [],
   "source": [
    "import numpy as np\n",
    "import seaborn as sns\n",
    "import pandas as pd\n",
    "import matplotlib.pyplot as plt"
   ]
  },
  {
   "cell_type": "code",
   "execution_count": 2,
   "id": "7d8e51e8",
   "metadata": {},
   "outputs": [
    {
     "data": {
      "text/html": [
       "<div>\n",
       "<style scoped>\n",
       "    .dataframe tbody tr th:only-of-type {\n",
       "        vertical-align: middle;\n",
       "    }\n",
       "\n",
       "    .dataframe tbody tr th {\n",
       "        vertical-align: top;\n",
       "    }\n",
       "\n",
       "    .dataframe thead th {\n",
       "        text-align: right;\n",
       "    }\n",
       "</style>\n",
       "<table border=\"1\" class=\"dataframe\">\n",
       "  <thead>\n",
       "    <tr style=\"text-align: right;\">\n",
       "      <th></th>\n",
       "      <th>Fever</th>\n",
       "      <th>Tiredness</th>\n",
       "      <th>Dry-Cough</th>\n",
       "      <th>Difficulty-in-Breathing</th>\n",
       "      <th>Sore-Throat</th>\n",
       "      <th>None_Sympton</th>\n",
       "      <th>Pains</th>\n",
       "      <th>Nasal-Congestion</th>\n",
       "      <th>Runny-Nose</th>\n",
       "      <th>Diarrhea</th>\n",
       "      <th>...</th>\n",
       "      <th>Gender_Male</th>\n",
       "      <th>Gender_Transgender</th>\n",
       "      <th>Severity_Mild</th>\n",
       "      <th>Severity_Moderate</th>\n",
       "      <th>Severity_None</th>\n",
       "      <th>Severity_Severe</th>\n",
       "      <th>Contact_Dont-Know</th>\n",
       "      <th>Contact_No</th>\n",
       "      <th>Contact_Yes</th>\n",
       "      <th>Country</th>\n",
       "    </tr>\n",
       "  </thead>\n",
       "  <tbody>\n",
       "    <tr>\n",
       "      <th>0</th>\n",
       "      <td>1</td>\n",
       "      <td>1</td>\n",
       "      <td>1</td>\n",
       "      <td>1</td>\n",
       "      <td>1</td>\n",
       "      <td>0</td>\n",
       "      <td>1</td>\n",
       "      <td>1</td>\n",
       "      <td>1</td>\n",
       "      <td>1</td>\n",
       "      <td>...</td>\n",
       "      <td>1</td>\n",
       "      <td>0</td>\n",
       "      <td>1</td>\n",
       "      <td>0</td>\n",
       "      <td>0</td>\n",
       "      <td>0</td>\n",
       "      <td>0</td>\n",
       "      <td>0</td>\n",
       "      <td>1</td>\n",
       "      <td>China</td>\n",
       "    </tr>\n",
       "    <tr>\n",
       "      <th>1</th>\n",
       "      <td>1</td>\n",
       "      <td>1</td>\n",
       "      <td>1</td>\n",
       "      <td>1</td>\n",
       "      <td>1</td>\n",
       "      <td>0</td>\n",
       "      <td>1</td>\n",
       "      <td>1</td>\n",
       "      <td>1</td>\n",
       "      <td>1</td>\n",
       "      <td>...</td>\n",
       "      <td>1</td>\n",
       "      <td>0</td>\n",
       "      <td>1</td>\n",
       "      <td>0</td>\n",
       "      <td>0</td>\n",
       "      <td>0</td>\n",
       "      <td>0</td>\n",
       "      <td>1</td>\n",
       "      <td>0</td>\n",
       "      <td>China</td>\n",
       "    </tr>\n",
       "    <tr>\n",
       "      <th>2</th>\n",
       "      <td>1</td>\n",
       "      <td>1</td>\n",
       "      <td>1</td>\n",
       "      <td>1</td>\n",
       "      <td>1</td>\n",
       "      <td>0</td>\n",
       "      <td>1</td>\n",
       "      <td>1</td>\n",
       "      <td>1</td>\n",
       "      <td>1</td>\n",
       "      <td>...</td>\n",
       "      <td>1</td>\n",
       "      <td>0</td>\n",
       "      <td>1</td>\n",
       "      <td>0</td>\n",
       "      <td>0</td>\n",
       "      <td>0</td>\n",
       "      <td>1</td>\n",
       "      <td>0</td>\n",
       "      <td>0</td>\n",
       "      <td>China</td>\n",
       "    </tr>\n",
       "    <tr>\n",
       "      <th>3</th>\n",
       "      <td>1</td>\n",
       "      <td>1</td>\n",
       "      <td>1</td>\n",
       "      <td>1</td>\n",
       "      <td>1</td>\n",
       "      <td>0</td>\n",
       "      <td>1</td>\n",
       "      <td>1</td>\n",
       "      <td>1</td>\n",
       "      <td>1</td>\n",
       "      <td>...</td>\n",
       "      <td>1</td>\n",
       "      <td>0</td>\n",
       "      <td>0</td>\n",
       "      <td>1</td>\n",
       "      <td>0</td>\n",
       "      <td>0</td>\n",
       "      <td>0</td>\n",
       "      <td>0</td>\n",
       "      <td>1</td>\n",
       "      <td>China</td>\n",
       "    </tr>\n",
       "    <tr>\n",
       "      <th>4</th>\n",
       "      <td>1</td>\n",
       "      <td>1</td>\n",
       "      <td>1</td>\n",
       "      <td>1</td>\n",
       "      <td>1</td>\n",
       "      <td>0</td>\n",
       "      <td>1</td>\n",
       "      <td>1</td>\n",
       "      <td>1</td>\n",
       "      <td>1</td>\n",
       "      <td>...</td>\n",
       "      <td>1</td>\n",
       "      <td>0</td>\n",
       "      <td>0</td>\n",
       "      <td>1</td>\n",
       "      <td>0</td>\n",
       "      <td>0</td>\n",
       "      <td>0</td>\n",
       "      <td>1</td>\n",
       "      <td>0</td>\n",
       "      <td>China</td>\n",
       "    </tr>\n",
       "  </tbody>\n",
       "</table>\n",
       "<p>5 rows × 27 columns</p>\n",
       "</div>"
      ],
      "text/plain": [
       "   Fever  Tiredness  Dry-Cough  Difficulty-in-Breathing  Sore-Throat  \\\n",
       "0      1          1          1                        1            1   \n",
       "1      1          1          1                        1            1   \n",
       "2      1          1          1                        1            1   \n",
       "3      1          1          1                        1            1   \n",
       "4      1          1          1                        1            1   \n",
       "\n",
       "   None_Sympton  Pains  Nasal-Congestion  Runny-Nose  Diarrhea  ...  \\\n",
       "0             0      1                 1           1         1  ...   \n",
       "1             0      1                 1           1         1  ...   \n",
       "2             0      1                 1           1         1  ...   \n",
       "3             0      1                 1           1         1  ...   \n",
       "4             0      1                 1           1         1  ...   \n",
       "\n",
       "   Gender_Male  Gender_Transgender  Severity_Mild  Severity_Moderate  \\\n",
       "0            1                   0              1                  0   \n",
       "1            1                   0              1                  0   \n",
       "2            1                   0              1                  0   \n",
       "3            1                   0              0                  1   \n",
       "4            1                   0              0                  1   \n",
       "\n",
       "   Severity_None  Severity_Severe  Contact_Dont-Know  Contact_No  Contact_Yes  \\\n",
       "0              0                0                  0           0            1   \n",
       "1              0                0                  0           1            0   \n",
       "2              0                0                  1           0            0   \n",
       "3              0                0                  0           0            1   \n",
       "4              0                0                  0           1            0   \n",
       "\n",
       "   Country  \n",
       "0    China  \n",
       "1    China  \n",
       "2    China  \n",
       "3    China  \n",
       "4    China  \n",
       "\n",
       "[5 rows x 27 columns]"
      ]
     },
     "execution_count": 2,
     "metadata": {},
     "output_type": "execute_result"
    }
   ],
   "source": [
    "df = pd.read_csv('Cleaned-Data.csv')\n",
    "df.head()"
   ]
  },
  {
   "cell_type": "code",
   "execution_count": 3,
   "id": "a4ba633c",
   "metadata": {},
   "outputs": [],
   "source": [
    "## sore-throat, difficulty-in-breathing, fever, pains, diarrhea"
   ]
  },
  {
   "cell_type": "code",
   "execution_count": 4,
   "id": "2664fa58",
   "metadata": {},
   "outputs": [
    {
     "name": "stdout",
     "output_type": "stream",
     "text": [
      "People having all symtoms and severity-severe:  450\n",
      "People having all symtoms and severity-moderate:  450\n",
      "People having all symtoms and severity-mild:  450\n"
     ]
    }
   ],
   "source": [
    "val1 = df[(df['Fever']==1) & (df['Difficulty-in-Breathing']==1) & (df['Sore-Throat']==1) & (df['Pains']==1) & (df['Diarrhea']==1) & (df['Severity_Severe']==1)]\n",
    "val2 = df[(df['Fever']==1) & (df['Difficulty-in-Breathing']==1) & (df['Sore-Throat']==1) & (df['Pains']==1) & (df['Diarrhea']==1) & (df['Severity_Moderate']==1)]\n",
    "val3 = df[(df['Fever']==1) & (df['Difficulty-in-Breathing']==1) & (df['Sore-Throat']==1) & (df['Pains']==1) & (df['Diarrhea']==1) & (df['Severity_Mild']==1)]\n",
    "\n",
    "print('People having all symtoms and severity-severe: ', len(val1))\n",
    "print('People having all symtoms and severity-moderate: ', len(val2))\n",
    "print('People having all symtoms and severity-mild: ', len(val3))"
   ]
  },
  {
   "cell_type": "code",
   "execution_count": 5,
   "id": "4614593d",
   "metadata": {},
   "outputs": [
    {
     "name": "stdout",
     "output_type": "stream",
     "text": [
      "People having all symtoms and severity-severe:  24750\n",
      "People having all symtoms and severity-moderate:  188100\n",
      "People having all symtoms and severity-mild:  188100\n"
     ]
    }
   ],
   "source": [
    "## Fever\n",
    "\n",
    "val1 = df[(df['Fever']==1) & (df['Severity_Severe']==1)]\n",
    "val2 = df[df['Fever']==1 & (df['Severity_Moderate']==1)]\n",
    "val3 = df[df['Fever']==1 & (df['Severity_Mild']==1)]\n",
    "\n",
    "print('People having all symtoms and severity-severe: ', len(val1))\n",
    "print('People having all symtoms and severity-moderate: ', len(val2))\n",
    "print('People having all symtoms and severity-mild: ', len(val3))"
   ]
  },
  {
   "cell_type": "code",
   "execution_count": 6,
   "id": "efb3b491",
   "metadata": {},
   "outputs": [
    {
     "name": "stdout",
     "output_type": "stream",
     "text": [
      "People having all symtoms and severity-severe:  24750\n",
      "People having all symtoms and severity-moderate:  188100\n",
      "People having all symtoms and severity-mild:  188100\n"
     ]
    }
   ],
   "source": [
    "## sore-throat\n",
    "\n",
    "val1 = df[(df['Sore-Throat']==1) & (df['Severity_Severe']==1)]\n",
    "val2 = df[df['Sore-Throat']==1 & (df['Severity_Moderate']==1)]\n",
    "val3 = df[df['Sore-Throat']==1 & (df['Severity_Mild']==1)]\n",
    "\n",
    "print('People having all symtoms and severity-severe: ', len(val1))\n",
    "print('People having all symtoms and severity-moderate: ', len(val2))\n",
    "print('People having all symtoms and severity-mild: ', len(val3))"
   ]
  },
  {
   "cell_type": "code",
   "execution_count": 7,
   "id": "cc35cbf7",
   "metadata": {},
   "outputs": [
    {
     "name": "stdout",
     "output_type": "stream",
     "text": [
      "People having all symtoms and severity-severe:  39600\n",
      "People having all symtoms and severity-moderate:  39600\n",
      "People having all symtoms and severity-mild:  39600\n"
     ]
    }
   ],
   "source": [
    "## diificulty-in-breathing\n",
    "val1 = df[(df['Difficulty-in-Breathing']==1) & (df['Severity_Severe']==1)]\n",
    "val2 = df[(df['Difficulty-in-Breathing']==1) & (df['Severity_Moderate']==1)]\n",
    "val3 = df[(df['Difficulty-in-Breathing']==1) & (df['Severity_Mild']==1)]\n",
    "\n",
    "print('People having all symtoms and severity-severe: ', len(val1))\n",
    "print('People having all symtoms and severity-moderate: ', len(val2))\n",
    "print('People having all symtoms and severity-mild: ', len(val3))"
   ]
  },
  {
   "cell_type": "code",
   "execution_count": 8,
   "id": "8db6aa9f",
   "metadata": {},
   "outputs": [
    {
     "name": "stdout",
     "output_type": "stream",
     "text": [
      "People having all symtoms and severity-severe:  28800\n",
      "People having all symtoms and severity-moderate:  180000\n",
      "People having all symtoms and severity-mild:  180000\n"
     ]
    }
   ],
   "source": [
    "## diarrhea\n",
    "val1 = df[(df['Diarrhea']==1) & (df['Severity_Severe']==1)]\n",
    "val2 = df[df['Diarrhea']==1 & (df['Severity_Moderate']==1)]\n",
    "val3 = df[df['Diarrhea']==1 & (df['Severity_Mild']==1)]\n",
    "\n",
    "print('People having all symtoms and severity-severe: ', len(val1))\n",
    "print('People having all symtoms and severity-moderate: ', len(val2))\n",
    "print('People having all symtoms and severity-mild: ', len(val3))"
   ]
  },
  {
   "cell_type": "code",
   "execution_count": 9,
   "id": "cbdc6017",
   "metadata": {},
   "outputs": [
    {
     "name": "stdout",
     "output_type": "stream",
     "text": [
      "People having all symtoms and severity-severe:  28800\n",
      "People having all symtoms and severity-moderate:  180000\n",
      "People having all symtoms and severity-mild:  180000\n"
     ]
    }
   ],
   "source": [
    "## pains\n",
    "\n",
    "val1 = df[(df['Pains']==1) & (df['Severity_Severe']==1)]\n",
    "val2 = df[df['Pains']==1 & (df['Severity_Moderate']==1)]\n",
    "val3 = df[df['Pains']==1 & (df['Severity_Mild']==1)]\n",
    "\n",
    "print('People having all symtoms and severity-severe: ', len(val1))\n",
    "print('People having all symtoms and severity-moderate: ', len(val2))\n",
    "print('People having all symtoms and severity-mild: ', len(val3))"
   ]
  },
  {
   "cell_type": "code",
   "execution_count": 10,
   "id": "12333ccb",
   "metadata": {},
   "outputs": [],
   "source": [
    "## many people suffer with severe covid for diarrhea, Pains, Difficulty-in-Breating"
   ]
  },
  {
   "cell_type": "code",
   "execution_count": 11,
   "id": "d594eb8e",
   "metadata": {},
   "outputs": [
    {
     "name": "stdout",
     "output_type": "stream",
     "text": [
      "People having all symtoms and severity-severe:  3600\n",
      "People having all symtoms and severity-moderate:  3600\n",
      "People having all symtoms and severity-mild:  3600\n"
     ]
    }
   ],
   "source": [
    "## major factors\n",
    "\n",
    "val1 = df[(df['Difficulty-in-Breathing']==1) & (df['Pains']==1) & (df['Diarrhea']==1) & (df['Severity_Severe']==1)]\n",
    "val2 = df[(df['Difficulty-in-Breathing']==1) & (df['Pains']==1) & (df['Diarrhea']==1) & (df['Severity_Moderate']==1)]\n",
    "val3 = df[(df['Difficulty-in-Breathing']==1) & (df['Pains']==1) & (df['Diarrhea']==1) & (df['Severity_Mild']==1)]\n",
    "\n",
    "print('People having all symtoms and severity-severe: ', len(val1))\n",
    "print('People having all symtoms and severity-moderate: ', len(val2))\n",
    "print('People having all symtoms and severity-mild: ', len(val3))"
   ]
  },
  {
   "cell_type": "code",
   "execution_count": 12,
   "id": "7f0d8e83",
   "metadata": {},
   "outputs": [
    {
     "name": "stdout",
     "output_type": "stream",
     "text": [
      "People having all symtoms and severity-severe:  900\n",
      "People having all symtoms and severity-moderate:  900\n",
      "People having all symtoms and severity-mild:  900\n"
     ]
    }
   ],
   "source": [
    "## major factors + fever\n",
    "\n",
    "val1 = df[(df['Fever']==1) & (df['Difficulty-in-Breathing']==1) & (df['Pains']==1) & (df['Diarrhea']==1) & (df['Severity_Severe']==1)]\n",
    "val2 = df[(df['Fever']==1) & (df['Difficulty-in-Breathing']==1) & (df['Pains']==1) & (df['Diarrhea']==1) & (df['Severity_Moderate']==1)]\n",
    "val3 = df[(df['Fever']==1) & (df['Difficulty-in-Breathing']==1) & (df['Pains']==1) & (df['Diarrhea']==1) & (df['Severity_Mild']==1)]\n",
    "\n",
    "print('People having all symtoms and severity-severe: ', len(val1))\n",
    "print('People having all symtoms and severity-moderate: ', len(val2))\n",
    "print('People having all symtoms and severity-mild: ', len(val3))"
   ]
  },
  {
   "cell_type": "code",
   "execution_count": 13,
   "id": "abca6969",
   "metadata": {},
   "outputs": [
    {
     "name": "stdout",
     "output_type": "stream",
     "text": [
      "People having all symtoms and severity-severe:  14400\n",
      "People having all symtoms and severity-moderate:  14400\n",
      "People having all symtoms and severity-mild:  14400\n"
     ]
    }
   ],
   "source": [
    "## difficulty-in-breathing, pains\n",
    "\n",
    "val1 = df[(df['Difficulty-in-Breathing']==1) & (df['Pains']==1) & (df['Severity_Severe']==1)]\n",
    "val2 = df[(df['Difficulty-in-Breathing']==1) & (df['Pains']==1) & (df['Severity_Moderate']==1)]\n",
    "val3 = df[(df['Difficulty-in-Breathing']==1) & (df['Pains']==1) & (df['Severity_Mild']==1)]\n",
    "\n",
    "print('People having all symtoms and severity-severe: ', len(val1))\n",
    "print('People having all symtoms and severity-moderate: ', len(val2))\n",
    "print('People having all symtoms and severity-mild: ', len(val3))"
   ]
  },
  {
   "cell_type": "code",
   "execution_count": 14,
   "id": "b95af385",
   "metadata": {},
   "outputs": [
    {
     "name": "stdout",
     "output_type": "stream",
     "text": [
      "People having all symtoms and severity-severe:  14400\n",
      "People having all symtoms and severity-moderate:  14400\n",
      "People having all symtoms and severity-mild:  14400\n"
     ]
    }
   ],
   "source": [
    "## difficulty-in-breathing, diarrhea\n",
    "val1 = df[(df['Difficulty-in-Breathing']==1) & (df['Diarrhea']==1) & (df['Severity_Severe']==1)]\n",
    "val2 = df[(df['Difficulty-in-Breathing']==1) & (df['Diarrhea']==1) & (df['Severity_Moderate']==1)]\n",
    "val3 = df[(df['Difficulty-in-Breathing']==1) & (df['Diarrhea']==1) & (df['Severity_Mild']==1)]\n",
    "\n",
    "print('People having all symtoms and severity-severe: ', len(val1))\n",
    "print('People having all symtoms and severity-moderate: ', len(val2))\n",
    "print('People having all symtoms and severity-mild: ', len(val3))"
   ]
  },
  {
   "cell_type": "code",
   "execution_count": 15,
   "id": "e5e3a60e",
   "metadata": {},
   "outputs": [
    {
     "name": "stdout",
     "output_type": "stream",
     "text": [
      "People having all symtoms and severity-severe:  7200\n",
      "People having all symtoms and severity-moderate:  7200\n",
      "People having all symtoms and severity-mild:  7200\n"
     ]
    }
   ],
   "source": [
    "## pains, diarrhea\n",
    "val1 = df[(df['Pains']==1) & (df['Diarrhea']==1) & (df['Severity_Severe']==1)]\n",
    "val2 = df[(df['Pains']==1) & (df['Diarrhea']==1) & (df['Severity_Moderate']==1)]\n",
    "val3 = df[(df['Pains']==1) & (df['Diarrhea']==1) & (df['Severity_Mild']==1)]\n",
    "\n",
    "print('People having all symtoms and severity-severe: ', len(val1))\n",
    "print('People having all symtoms and severity-moderate: ', len(val2))\n",
    "print('People having all symtoms and severity-mild: ', len(val3))"
   ]
  },
  {
   "cell_type": "code",
   "execution_count": 16,
   "id": "9c0f60f7",
   "metadata": {},
   "outputs": [],
   "source": [
    "## difficulty-in breathing is a major factor with diarrhea and pains"
   ]
  },
  {
   "cell_type": "code",
   "execution_count": null,
   "id": "eb512e24",
   "metadata": {},
   "outputs": [],
   "source": []
  }
 ],
 "metadata": {
  "kernelspec": {
   "display_name": "Python 3",
   "language": "python",
   "name": "python3"
  },
  "language_info": {
   "codemirror_mode": {
    "name": "ipython",
    "version": 3
   },
   "file_extension": ".py",
   "mimetype": "text/x-python",
   "name": "python",
   "nbconvert_exporter": "python",
   "pygments_lexer": "ipython3",
   "version": "3.8.8"
  }
 },
 "nbformat": 4,
 "nbformat_minor": 5
}
